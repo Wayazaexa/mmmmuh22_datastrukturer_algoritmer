{
 "cells": [
  {
   "attachments": {},
   "cell_type": "markdown",
   "metadata": {},
   "source": [
    "Naiv lösning: Gör en loop och kolla för varje tal om de är delbara med 3 eller 5 - I så fall, addera\n",
    "\n",
    "Komplexitet: O(n)\n",
    "Bevis: Antal operatkoner: n-loopar. Antal operatkoner per loop: 3?\n",
    "\n",
    "$3\\cdot n \\rightarrow O(n)$"
   ]
  },
  {
   "cell_type": "code",
   "execution_count": 14,
   "metadata": {},
   "outputs": [
    {
     "name": "stdout",
     "output_type": "stream",
     "text": [
      "234168\n"
     ]
    }
   ],
   "source": [
    "sum = 0\n",
    "for i in range(1000+1):\n",
    "    if ((i % 3 == 0) or (i % 5 == 0) ):\n",
    "        sum += i\n",
    "\n",
    "print(sum)\n"
   ]
  },
  {
   "attachments": {},
   "cell_type": "markdown",
   "metadata": {},
   "source": [
    "15 är jämnt delbart med både 3 och 5. Här har vi en repetition, 15, 30, 45 är delbart med 3 och 5.\n",
    "\n",
    "T.ex:\n",
    "\n",
    " - 3 är delbart med 3. Addera: 15*0 + 3\n",
    " - 18 är delbart med 3. Addera: 15*1 + 3\n",
    " - 33 är delbart med 3. Addera: 15*2 + 3\n",
    "\n",
    "Antag att n är jämnt delbart med 15. Om vi tar alla tal så kan vi summera för varje 15-tal:\n",
    "\n",
    "$$\n",
    "\\begin{array}{l}\n",
    "\\sum_{k=0}^{k=n/15} (15\\cdot k + 3) + (15\\cdot k + 5) + \\\\\n",
    "(15\\cdot k + 6) + (15\\cdot k + 9) + (15\\cdot k + 10) + \\\\\n",
    "(15\\cdot k + 12) + (15\\cdot k + 15)\n",
    "\\end{array}\n",
    "$$\n",
    "\n",
    "Om vi bryter ut siffrorna (3 + 5 + 6 osv) och $15\\cdot k$ så kan vi förenkla till:\n",
    "\n",
    "$$\n",
    "\\sum_k 15 \\cdot 7 \\cdot k + (3 + 5 + 8 + 9 + 10 + 12 + 15) = \\sum_k 105 \\cdot k + 60\n",
    "$$\n",
    "\n",
    "Det vill säga, för varje sådan del (var 15 tal) så ökar summan med $105 \\cdot k + 60$, där k är iterationen av 15-tal.\n",
    "\n",
    "För n=1000 så har vi 1000/15 = 66 avrundat nedåt. $15 \\cdot 66 = 990$, det vill säga vi saknar då talen mellan 990 och 1000, vilket vi kan lägga till manuellt. Resultatet blir då:"
   ]
  },
  {
   "cell_type": "code",
   "execution_count": 2,
   "metadata": {},
   "outputs": [
    {
     "name": "stdout",
     "output_type": "stream",
     "text": [
      "233168\n"
     ]
    }
   ],
   "source": [
    "sum = 0\n",
    "for k in range(66):\n",
    "    sum += k*105 + 60\n",
    "\n",
    "sum += 993 + 995 + 996 + 999\n",
    "\n",
    "print(sum)"
   ]
  },
  {
   "attachments": {},
   "cell_type": "markdown",
   "metadata": {},
   "source": [
    "Vi har effektiviserat uträkningen (med en faktor ~15)\n",
    "\n",
    "Notera dock att detta fortfarande är $O(n)$\n",
    "\n",
    "Ansätt $m=n/15$, avrundat neråt till närmsta heltal (om det inte är jämnt delbart med 15). Det vill säga för $n=1000 \\rightarrow m=66$\n",
    "\n",
    "$$\n",
    "\\sum_{k=0}^{m} 105 \\cdot k + 60 = 105\\sum_{k=0}^{m}(k) +  60 \\cdot {m}\n",
    "$$\n",
    "\n",
    "Vi kan nu använda [Gauss summering](https://letstalkscience.ca/educational-resources/backgrounders/gauss-summation) för att förenkla summeringsdelen. Notera att guass-summering normalt börjar från 1, vi har 0 som startvärde:\n",
    "\n",
    "$$\n",
    "\\sum_{k=0}^{m}(k) = \\frac{(m-1)((m-1)+1)}{2} = \\frac{(m-1)(m)}{2}\n",
    "$$\n",
    "\n",
    "Nu kan vi lösa beräkningen, med endast en komplexitet O(1) (konstant tid):"
   ]
  },
  {
   "cell_type": "code",
   "execution_count": 17,
   "metadata": {},
   "outputs": [
    {
     "name": "stdout",
     "output_type": "stream",
     "text": [
      "233168.0\n"
     ]
    }
   ],
   "source": [
    "m = 66\n",
    "sum = m*60 + 105*(m-1)*(m)/2\n",
    "sum += 993 + 995 + 996 + 999\n",
    "\n",
    "print(sum)"
   ]
  }
 ],
 "metadata": {
  "kernelspec": {
   "display_name": "Python 3",
   "language": "python",
   "name": "python3"
  },
  "language_info": {
   "codemirror_mode": {
    "name": "ipython",
    "version": 3
   },
   "file_extension": ".py",
   "mimetype": "text/x-python",
   "name": "python",
   "nbconvert_exporter": "python",
   "pygments_lexer": "ipython3",
   "version": "3.10.9 (tags/v3.10.9:1dd9be6, Dec  6 2022, 20:01:21) [MSC v.1934 64 bit (AMD64)]"
  },
  "orig_nbformat": 4,
  "vscode": {
   "interpreter": {
    "hash": "191d7138015f8cb7b895000e69ed09fed4d2b8a66c092f41682edc978e7fd3c7"
   }
  }
 },
 "nbformat": 4,
 "nbformat_minor": 2
}
